{
 "cells": [
  {
   "cell_type": "markdown",
   "metadata": {},
   "source": [
    "<h1 style='text-align:center'>Smith-Waterman local alignment,and Needleman-Wunsch global alignment using <a href='https://biopython.org'>Biopython</a></h1>\n",
    "<h2 style='text-align:center'>Author: Deepak Khatri</h2>\n",
    "\n",
    "[Online demo(1) for local and global alignnment](https://gtuckerkellogg.github.io/pairwise/demo/)"
   ]
  },
  {
   "cell_type": "code",
   "execution_count": 1,
   "metadata": {},
   "outputs": [],
   "source": [
    "# Biopython modules for pairwise alignmnet\n",
    "from Bio import pairwise2\n",
    "from Bio import SeqIO\n",
    "from Bio.SubsMat.MatrixInfo import blosum62"
   ]
  },
  {
   "cell_type": "markdown",
   "metadata": {},
   "source": [
    "# [Smith-Waterman local alignment](https://en.wikipedia.org/wiki/Smith%E2%80%93Waterman_algorithm)\n",
    "[Online Demo(2) for Smith-Waterman local alignment](https://wtsi-hgi.github.io/smith-waterman-demo/smith-waterman-demo.html)\n"
   ]
  },
  {
   "cell_type": "code",
   "execution_count": 2,
   "metadata": {},
   "outputs": [
    {
     "name": "stdout",
     "output_type": "stream",
     "text": [
      "AGGTTGCA\n",
      "||| | ||\n",
      "AGG-T-CA\n",
      "  Score=6\n",
      "\n",
      "AGGTTGCA\n",
      "||||  ||\n",
      "AGGT--CA\n",
      "  Score=6\n",
      "\n"
     ]
    }
   ],
   "source": [
    "# alignment with no match score and gap penalty\n",
    "local_alignment = pairwise2.align.localxx('AGGTTGCA', 'AGGTCA')\n",
    "# formatted output\n",
    "for i in range(len(local_alignment)):\n",
    "    print(pairwise2.format_alignment(*local_alignment[i]))"
   ]
  },
  {
   "cell_type": "code",
   "execution_count": 3,
   "metadata": {},
   "outputs": [
    {
     "name": "stdout",
     "output_type": "stream",
     "text": [
      "AGGTTGCA\n",
      "||||  ||\n",
      "AGGT--CA\n",
      "  Score=23.5\n",
      "\n"
     ]
    }
   ],
   "source": [
    "# local alignment with opengap= -10, extendgap= -0.5\n",
    "local_alignmentds = pairwise2.align.localds('AGGTTGCA', 'AGGTCA', blosum62, -10, -0.5)\n",
    "# formatted output\n",
    "for i in range(len(local_alignmentds)):\n",
    "    print(pairwise2.format_alignment(*local_alignmentds[i]))"
   ]
  },
  {
   "cell_type": "markdown",
   "metadata": {},
   "source": [
    "# [Needleman-Wunsch global alignment](https://en.wikipedia.org/wiki/Needleman%E2%80%93Wunsch_algorithm)\n",
    "[Online Demo(3) for Needleman-Wunsch global alignment](https://blievrouw.github.io/needleman-wunsch/)"
   ]
  },
  {
   "cell_type": "code",
   "execution_count": 4,
   "metadata": {},
   "outputs": [
    {
     "name": "stdout",
     "output_type": "stream",
     "text": [
      "A-TTAC\n",
      "| || |\n",
      "AATT-C\n",
      "  Score=4\n",
      "\n",
      "-ATTAC\n",
      " ||| |\n",
      "AATT-C\n",
      "  Score=4\n",
      "\n"
     ]
    }
   ],
   "source": [
    "# alignment with no match score and gap penalty\n",
    "global_alignmnet = pairwise2.align.globalxx('ATTAC', 'AATTC')\n",
    "# formatted alignment\n",
    "for i in range(len(global_alignmnet)):\n",
    "    print(pairwise2.format_alignment(*global_alignmnet[i]))"
   ]
  },
  {
   "cell_type": "code",
   "execution_count": 5,
   "metadata": {},
   "outputs": [
    {
     "name": "stdout",
     "output_type": "stream",
     "text": [
      "A-TTAC\n",
      "| || |\n",
      "AATT-C\n",
      "  Score=21\n",
      "\n",
      "-ATTAC\n",
      " ||| |\n",
      "AATT-C\n",
      "  Score=21\n",
      "\n"
     ]
    }
   ],
   "source": [
    "# global alignment using blosum62 substitution matrix, opengap= -1, extendgap= -1\n",
    "global_alignmentds = pairwise2.align.globalds('ATTAC', 'AATTC', blosum62, -1, -1)\n",
    "# formatted output\n",
    "for i in range(len(global_alignmentds)):\n",
    "    print(pairwise2.format_alignment(*global_alignmentds[i]))"
   ]
  },
  {
   "cell_type": "code",
   "execution_count": 6,
   "metadata": {},
   "outputs": [
    {
     "name": "stdout",
     "output_type": "stream",
     "text": [
      "A-TTAC\n",
      "| || |\n",
      "AATT-C\n",
      "  Score=2\n",
      "\n",
      "-ATTAC\n",
      " ||| |\n",
      "AATT-C\n",
      "  Score=2\n",
      "\n"
     ]
    }
   ],
   "source": [
    "# global alignmnet with match= 1, mismatch= -1, opengap= -1, endgap= -1\n",
    "global_alignmentds = pairwise2.align.globalms('ATTAC', 'AATTC', 1, -1, -1, -1)\n",
    "# formatted output\n",
    "for i in range(len(global_alignmentds)):\n",
    "    print(pairwise2.format_alignment(*global_alignmentds[i]))"
   ]
  },
  {
   "cell_type": "markdown",
   "metadata": {},
   "source": [
    "xx in localxx and globalxx can have these values\n",
    "\n",
    "(x)x The match score parameters are:\n",
    " \n",
    "1. x     No parameters. Identical characters have score of 1, otherwise 0.\n",
    "2. m     A match score is the score of identical chars, otherwise mismatch score.\n",
    "3. d     A dictionary returns the score of any pair of characters.\n",
    "4. c     A callback function returns scores.\n",
    "\n",
    "x(x) The gap penalty parameters are:\n",
    "1. x     No gap penalties.\n",
    "2. s     Same open and extend gap penalties for both sequences.\n",
    "3. d     The sequences have different open and extend gap penalties.\n",
    "4. c     A callback function returns the gap penalties."
   ]
  },
  {
   "cell_type": "markdown",
   "metadata": {},
   "source": [
    "# References:\n",
    "1. [wikipedia waterman algorithm](https://en.wikipedia.org/wiki/Smith%E2%80%93Waterman_algorithm)\n",
    "\n",
    "2. [wikipedia wunsch algorithm](https://en.wikipedia.org/wiki/Needleman%E2%80%93Wunsch_algorithm)\n",
    "\n",
    "3. [Biopython pairwise2 module](http://biopython.org/DIST/docs/api/Bio.pairwise2-module.html)\n",
    "\n",
    "4. [Biopython website](http://biopython.org/DIST/docs/tutorial/Tutorial.html)\n",
    "    "
   ]
  }
 ],
 "metadata": {
  "kernelspec": {
   "display_name": "Python 3",
   "language": "python",
   "name": "python3"
  },
  "language_info": {
   "codemirror_mode": {
    "name": "ipython",
    "version": 3
   },
   "file_extension": ".py",
   "mimetype": "text/x-python",
   "name": "python",
   "nbconvert_exporter": "python",
   "pygments_lexer": "ipython3",
   "version": "3.7.2"
  }
 },
 "nbformat": 4,
 "nbformat_minor": 2
}
